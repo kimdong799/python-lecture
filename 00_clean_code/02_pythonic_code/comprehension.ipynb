{
 "cells": [
  {
   "cell_type": "markdown",
   "metadata": {},
   "source": [
    "# 컴프리헨션(Comprehension)과 할당 표현식\n",
    "\n",
    "- 여러 연산이 아니라 단일 명령어로 데이터 구조를 생성하려면 for 루프보다 컴프리헨션을 사용하는 것이 좋다.\n",
    "- comprehension 사용 시 단일 파이썬 명령어를 사용해 일반적으로 더 나은 성능을 보인다."
   ]
  },
  {
   "cell_type": "code",
   "execution_count": 1,
   "metadata": {},
   "outputs": [
    {
     "name": "stdout",
     "output_type": "stream",
     "text": [
      "[0, 1, 2, 3, 4, 5, 6, 7, 8, 9]\n"
     ]
    }
   ],
   "source": [
    "# for 루프\n",
    "import dis\n",
    "\n",
    "numbers = []\n",
    "for i in range(10):\n",
    "    numbers.append(i)\n",
    "\n",
    "print(numbers)"
   ]
  },
  {
   "cell_type": "code",
   "execution_count": 3,
   "metadata": {},
   "outputs": [
    {
     "name": "stdout",
     "output_type": "stream",
     "text": [
      "[0, 1, 2, 3, 4, 5, 6, 7, 8, 9]\n"
     ]
    }
   ],
   "source": [
    "# comprehension\n",
    "\n",
    "numbers = [num for num in range(10)]\n",
    "print(numbers)"
   ]
  },
  {
   "cell_type": "markdown",
   "metadata": {},
   "source": [
    "클라우드 컴퓨팅 환경에서 ARN(Amazon Resource Number)와 같은 문자열을 받아 해당 리소스의 계정 정보를 반환하는 함수가 있다고 가정"
   ]
  },
  {
   "cell_type": "code",
   "execution_count": 4,
   "metadata": {},
   "outputs": [],
   "source": [
    "from typing import Iterable, Set\n",
    "import re\n",
    "\n",
    "ARN_REGEX = \"some regex\"\n",
    "arns = [\"arn1\", \"arn2\", \"arn3\"]\n",
    "\n",
    "def collect_account_ids_from_arns(arn: Iterable[str]) -> Set[str]:\n",
    "    \"\"\"arn: partition:service:region:account-id:resource-id 형태의 ARN들이 주어진 경우\n",
    "    고유한 계정 ID (account-id)를 찾아서 반환\n",
    "    \"\"\"\n",
    "    collected_account_ids = set()\n",
    "    for arn in arns:\n",
    "        matched = re.match(ARN_REGEX, arn)\n",
    "        if matched is not None:\n",
    "            account_id = matched.groupdict()[\"account_id\"]\n",
    "            collected_account_ids.add(account_id)\n",
    "    return collected_account_ids"
   ]
  },
  {
   "cell_type": "markdown",
   "metadata": {},
   "source": [
    "위는 많은 양의 코드가 있지만 사실 간단한 작업을 하고 있다. 이러한 경우 컴프리헨션을 사용하면 함수형 프로그래밍과 유사한 방식으로 더 적은 라인으로 동일한 기능을 수행하는 함수를 만들 수 있다."
   ]
  },
  {
   "cell_type": "code",
   "execution_count": 5,
   "metadata": {},
   "outputs": [],
   "source": [
    "def collect_account_ids_from_arns(arns):\n",
    "    matched_arns = filter(None, (re.match(ARN_REGEX, arn) for arn in arns))\n",
    "    return {m.groupdict()[\"account_id\"] for m in matched_arns}"
   ]
  },
  {
   "cell_type": "markdown",
   "metadata": {},
   "source": [
    "python 3.8 이상은 PEP-572에서 할당 표현식이 도입되어 아래와 같은 코드로 작성하는 것이 가능하다.\n",
    "\n",
    "```\n",
    "def collect_account_ids_from_arns(arns: Iterable[str]) -> Set[str]\"\n",
    "    return {\n",
    "        matched.groupdict()[\"account_id\"]\n",
    "        for arn in arns\n",
    "        if (matched := re.match(ARN_REGEX, arn)) is not None\n",
    "    }\n",
    "```\n",
    "\n",
    "더 간결한 코드가 항상 더 나은 코드를 의미하는 것은 아니다.\n",
    "\n",
    "한 줄 코드를 만들려면 복잡한 표현식이 사용되는데 반드시 그럴 필요는 없으며 단순한 접간 방식을 사용하는 것이 더 나은 선택일 수 있다. **(keep it simple)**"
   ]
  },
  {
   "cell_type": "code",
   "execution_count": null,
   "metadata": {},
   "outputs": [],
   "source": []
  }
 ],
 "metadata": {
  "kernelspec": {
   "display_name": "Python 3",
   "language": "python",
   "name": "python3"
  },
  "language_info": {
   "codemirror_mode": {
    "name": "ipython",
    "version": 3
   },
   "file_extension": ".py",
   "mimetype": "text/x-python",
   "name": "python",
   "nbconvert_exporter": "python",
   "pygments_lexer": "ipython3",
   "version": "3.10.11"
  }
 },
 "nbformat": 4,
 "nbformat_minor": 2
}

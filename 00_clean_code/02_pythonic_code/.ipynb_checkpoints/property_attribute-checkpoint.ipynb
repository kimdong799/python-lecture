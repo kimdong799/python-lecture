{
 "cells": [
  {
   "cell_type": "markdown",
   "metadata": {},
   "source": [
    "# 🌱 프로퍼티, 속성(Attribute)과 객체 메서드의 다른 타입들\n",
    "---"
   ]
  },
  {
   "cell_type": "markdown",
   "metadata": {},
   "source": [
    "public, private, protected와 같은 `접근제어자`를 갖는 다른 언어들과 다르게 python은 모든 속성과 함수가 **public**이다.\n",
    "\n",
    "따라서 python에서 엄격한 강제사항은 아니지만 접근제어자와 비슷한 역할을 할 수 있는 몇가지 `네이밍 컨벤션`이 존재한다."
   ]
  },
  {
   "cell_type": "markdown",
   "metadata": {},
   "source": [
    "# 💡 Python에서의 밑줄\n",
    "---\n",
    "python은 기본적으로 모든 객체의 속성이 `public`이다.\n",
    "\n",
    "아래의 `Connector` 객체는 source, timeout이라는 두 속성을 가진다.\n",
    "\n",
    "밑줄의 역할이 바로 private 속성이라는 의미의 **네이밍컨벤션**에 해당한다.\n",
    "\n",
    "- source : public\n",
    "- _timeout : private\n",
    "\n",
    "**하지만 실제로 객체의 속성을 출력해보면 접근 가능한 것을 알 수 있다.**"
   ]
  },
  {
   "cell_type": "code",
   "execution_count": 7,
   "metadata": {},
   "outputs": [
    {
     "name": "stdout",
     "output_type": "stream",
     "text": [
      "postgresql://localhost\n",
      "60\n",
      "{'source': 'postgresql://localhost', '_timeout': 60}\n"
     ]
    }
   ],
   "source": [
    "# 객체 및 속성 정의\n",
    "class Connector:\n",
    "    def __init__(self, source):\n",
    "        self.source = source\n",
    "        self._timeout = 60\n",
    "\n",
    "# 객체 속성 출력\n",
    "conn = Connector(\"postgresql://localhost\")\n",
    "print(conn.source)\n",
    "print(conn._timeout)\n",
    "print(conn.__dict__)"
   ]
  },
  {
   "cell_type": "markdown",
   "metadata": {},
   "source": [
    "위의 코드처럼 비공개 속성에 접두어로 `_`를 붙이면 **private**이라는 의미이기 때문에 클래스 내부에서만 사용한다.\n",
    "\n",
    "이러한 컨벤션이 제대로 지켜진다면 외부 인터페이스를 고려하지 않고 언제든 안전하게 리팩토링 할 수 있다.\n",
    "> 클래스는 외부 호출 객체와 관련된 속성과 메소드만 노출하자. 객체의 인터페이스로 공개하는 용도가 아니라면 모든 멤버는 접두사로 하나의 밑줄을 사용하자."
   ]
  },
  {
   "cell_type": "markdown",
   "metadata": {},
   "source": [
    "단일 밑줄을 접두사로 사용하면 private이라는 의미의 속성이 되지만 실제로는 호출이 가능하다. \n",
    "\n",
    "엄격하게 외부에서 접근할 수 없도록 강제하고자 한다면 `__` 이중 밑줄을 사용하면 된다.\n",
    "> 이중 밑줄을 사용하면 **name mangling** 이라는 기능을 통해 사실 **'_클래스명__속성명'** 이라는 속성을 만들어 속성을 숨기는 것이다.\n",
    "> \n",
    "> 따라서 AttributeError가 발생하며 기존의 용도는 메소드의 이름 충돌 없이 오버라이드하기 위해 만들어진 기능인 것을 알아두자."
   ]
  },
  {
   "cell_type": "code",
   "execution_count": 10,
   "metadata": {},
   "outputs": [
    {
     "name": "stdout",
     "output_type": "stream",
     "text": [
      "postgresql://localhost\n"
     ]
    },
    {
     "ename": "AttributeError",
     "evalue": "'Connector' object has no attribute '__timeout'",
     "output_type": "error",
     "traceback": [
      "\u001b[0;31m---------------------------------------------------------------------------\u001b[0m",
      "\u001b[0;31mAttributeError\u001b[0m                            Traceback (most recent call last)",
      "Cell \u001b[0;32mIn[10], line 10\u001b[0m\n\u001b[1;32m      8\u001b[0m conn \u001b[38;5;241m=\u001b[39m Connector(\u001b[38;5;124m\"\u001b[39m\u001b[38;5;124mpostgresql://localhost\u001b[39m\u001b[38;5;124m\"\u001b[39m)\n\u001b[1;32m      9\u001b[0m \u001b[38;5;28mprint\u001b[39m(conn\u001b[38;5;241m.\u001b[39msource)\n\u001b[0;32m---> 10\u001b[0m \u001b[38;5;28mprint\u001b[39m(\u001b[43mconn\u001b[49m\u001b[38;5;241;43m.\u001b[39;49m\u001b[43m__timeout\u001b[49m)\n\u001b[1;32m     11\u001b[0m \u001b[38;5;28mprint\u001b[39m(conn\u001b[38;5;241m.\u001b[39m\u001b[38;5;18m__dict__\u001b[39m)\n",
      "\u001b[0;31mAttributeError\u001b[0m: 'Connector' object has no attribute '__timeout'"
     ]
    }
   ],
   "source": [
    "# 객체 및 속성 정의\n",
    "class Connector:\n",
    "    def __init__(self, source):\n",
    "        self.source = source\n",
    "        self.__timeout = 60\n",
    "\n",
    "# 객체 속성 출력\n",
    "conn = Connector(\"postgresql://localhost\")\n",
    "print(conn.source)\n",
    "print(conn.__timeout)\n",
    "print(conn.__dict__)"
   ]
  },
  {
   "cell_type": "code",
   "execution_count": 11,
   "metadata": {},
   "outputs": [
    {
     "name": "stdout",
     "output_type": "stream",
     "text": [
      "60\n"
     ]
    }
   ],
   "source": [
    "# 맹글링 된 속성\n",
    "print(conn._Connector__timeout)"
   ]
  },
  {
   "cell_type": "markdown",
   "metadata": {},
   "source": [
    "# ⚙️ Property\n",
    "---"
   ]
  },
  {
   "cell_type": "markdown",
   "metadata": {},
   "source": [
    "일반적으로 객체 지향 설계에서는 도메인 엔티티를 추상화하는 객체를 만들고 이러한 객체는 어떤 비즈니스 로직이나 데이터를 캡슐화한다.\n",
    "\n",
    "**일반적으로 setter 작업에 사용되는 유효성 검사 메서드를 이용해 일부 엔티티는 특정 값을 가질 경우에만 존재할 수 있도록 강제한다.**\n",
    "\n",
    "Python에서는 `Property`를 이용해 `getter`, `setter` 메소드를 더 간결하게 캡슐화 할 수 있다."
   ]
  },
  {
   "cell_type": "code",
   "execution_count": 18,
   "metadata": {},
   "outputs": [
    {
     "ename": "ValueError",
     "evalue": "유효하지 않은 위도 값: 180",
     "output_type": "error",
     "traceback": [
      "\u001b[0;31m---------------------------------------------------------------------------\u001b[0m",
      "\u001b[0;31mValueError\u001b[0m                                Traceback (most recent call last)",
      "Cell \u001b[0;32mIn[18], line 27\u001b[0m\n\u001b[1;32m     24\u001b[0m             \u001b[38;5;28;01mraise\u001b[39;00m \u001b[38;5;167;01mValueError\u001b[39;00m(\u001b[38;5;124mf\u001b[39m\u001b[38;5;124m\"\u001b[39m\u001b[38;5;124m유효하지 않은 경도 값: \u001b[39m\u001b[38;5;132;01m{\u001b[39;00mlong_value\u001b[38;5;132;01m}\u001b[39;00m\u001b[38;5;124m\"\u001b[39m)\n\u001b[1;32m     25\u001b[0m         \u001b[38;5;28mself\u001b[39m\u001b[38;5;241m.\u001b[39m_longitude \u001b[38;5;241m=\u001b[39m long_value\n\u001b[0;32m---> 27\u001b[0m corrdinate \u001b[38;5;241m=\u001b[39m \u001b[43mCoordinate\u001b[49m\u001b[43m(\u001b[49m\u001b[38;5;241;43m180\u001b[39;49m\u001b[43m,\u001b[49m\u001b[43m \u001b[49m\u001b[38;5;241;43m90\u001b[39;49m\u001b[43m)\u001b[49m\n",
      "Cell \u001b[0;32mIn[18], line 4\u001b[0m, in \u001b[0;36mCoordinate.__init__\u001b[0;34m(self, lat, long)\u001b[0m\n\u001b[1;32m      2\u001b[0m \u001b[38;5;28;01mdef\u001b[39;00m \u001b[38;5;21m__init__\u001b[39m(\u001b[38;5;28mself\u001b[39m, lat: \u001b[38;5;28mfloat\u001b[39m, long: \u001b[38;5;28mfloat\u001b[39m) \u001b[38;5;241m-\u001b[39m\u001b[38;5;241m>\u001b[39m \u001b[38;5;28;01mNone\u001b[39;00m:\n\u001b[1;32m      3\u001b[0m     \u001b[38;5;28mself\u001b[39m\u001b[38;5;241m.\u001b[39m_latitude \u001b[38;5;241m=\u001b[39m \u001b[38;5;28mself\u001b[39m\u001b[38;5;241m.\u001b[39m_lonitude \u001b[38;5;241m=\u001b[39m \u001b[38;5;28;01mNone\u001b[39;00m\n\u001b[0;32m----> 4\u001b[0m     \u001b[38;5;28;43mself\u001b[39;49m\u001b[38;5;241;43m.\u001b[39;49m\u001b[43mlatitude\u001b[49m \u001b[38;5;241m=\u001b[39m lat\n\u001b[1;32m      5\u001b[0m     \u001b[38;5;28mself\u001b[39m\u001b[38;5;241m.\u001b[39mlongiture \u001b[38;5;241m=\u001b[39m long\n",
      "Cell \u001b[0;32mIn[18], line 14\u001b[0m, in \u001b[0;36mCoordinate.latitude\u001b[0;34m(self, lat_value)\u001b[0m\n\u001b[1;32m     11\u001b[0m \u001b[38;5;129m@latitude\u001b[39m\u001b[38;5;241m.\u001b[39msetter\n\u001b[1;32m     12\u001b[0m \u001b[38;5;28;01mdef\u001b[39;00m \u001b[38;5;21mlatitude\u001b[39m(\u001b[38;5;28mself\u001b[39m, lat_value: \u001b[38;5;28mfloat\u001b[39m) \u001b[38;5;241m-\u001b[39m\u001b[38;5;241m>\u001b[39m \u001b[38;5;28;01mNone\u001b[39;00m:\n\u001b[1;32m     13\u001b[0m     \u001b[38;5;28;01mif\u001b[39;00m lat_value \u001b[38;5;129;01mnot\u001b[39;00m \u001b[38;5;129;01min\u001b[39;00m \u001b[38;5;28mrange\u001b[39m(\u001b[38;5;241m-\u001b[39m\u001b[38;5;241m90\u001b[39m, \u001b[38;5;241m90\u001b[39m\u001b[38;5;241m+\u001b[39m\u001b[38;5;241m1\u001b[39m):\n\u001b[0;32m---> 14\u001b[0m         \u001b[38;5;28;01mraise\u001b[39;00m \u001b[38;5;167;01mValueError\u001b[39;00m(\u001b[38;5;124mf\u001b[39m\u001b[38;5;124m\"\u001b[39m\u001b[38;5;124m유효하지 않은 위도 값: \u001b[39m\u001b[38;5;132;01m{\u001b[39;00mlat_value\u001b[38;5;132;01m}\u001b[39;00m\u001b[38;5;124m\"\u001b[39m)\n\u001b[1;32m     15\u001b[0m     \u001b[38;5;28mself\u001b[39m\u001b[38;5;241m.\u001b[39m_latitude \u001b[38;5;241m=\u001b[39m lat_value\n",
      "\u001b[0;31mValueError\u001b[0m: 유효하지 않은 위도 값: 180"
     ]
    }
   ],
   "source": [
    "class Coordinate:\n",
    "    def __init__(self, lat: float, long: float) -> None:\n",
    "        self._latitude = self._lonitude = None\n",
    "        self.latitude = lat\n",
    "        self.longiture = long\n",
    "\n",
    "    # Decorator로 선언된 유효성 검사 로직이 자동 호출\n",
    "    @property\n",
    "    def latitude(self) -> float:\n",
    "        return self._latitude\n",
    "\n",
    "    @latitude.setter\n",
    "    def latitude(self, lat_value: float) -> None:\n",
    "        if lat_value not in range(-90, 90+1):\n",
    "            raise ValueError(f\"유효하지 않은 위도 값: {lat_value}\")\n",
    "        self._latitude = lat_value\n",
    "\n",
    "    @property\n",
    "    def longitude(self) -> float:\n",
    "        return self._longitude\n",
    "\n",
    "    @longitude.setter\n",
    "    def longitude(self, long_value: float) -> None:\n",
    "        if long_value not in range(-180, 180+1):\n",
    "            raise ValueError(f\"유효하지 않은 경도 값: {long_value}\")\n",
    "        self._longitude = long_value\n",
    "\n",
    "corrdinate = Coordinate(180, 90)"
   ]
  },
  {
   "cell_type": "code",
   "execution_count": null,
   "metadata": {},
   "outputs": [],
   "source": []
  }
 ],
 "metadata": {
  "kernelspec": {
   "display_name": "Python 3 (ipykernel)",
   "language": "python",
   "name": "python3"
  },
  "language_info": {
   "codemirror_mode": {
    "name": "ipython",
    "version": 3
   },
   "file_extension": ".py",
   "mimetype": "text/x-python",
   "name": "python",
   "nbconvert_exporter": "python",
   "pygments_lexer": "ipython3",
   "version": "3.10.11"
  }
 },
 "nbformat": 4,
 "nbformat_minor": 4
}

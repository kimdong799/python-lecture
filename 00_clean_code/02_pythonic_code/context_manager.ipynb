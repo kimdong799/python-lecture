{
 "cells": [
  {
   "cell_type": "markdown",
   "metadata": {},
   "source": [
    "# Context Manager"
   ]
  },
  {
   "cell_type": "markdown",
   "metadata": {},
   "source": [
    "- 사전 조건과 사후 조건이 있는 일부 코드를 실행해야 하는 경우 컨텍스트 관리자를 이용할 수 있다.\n",
    "- 일반적으로 리소스 관리와 관령하여 컨텍스트 관리자를 자주 볼 수 있다.\n",
    "- 일반적으로 할당된 모든 리소스를 해제해야하는 경우 사용한다.\n",
    "- 예외가 발생하거나 오류를 처리해야하는 경우 일반적으로 `finally` 블록에 정리 코드를 넣을 수 있다."
   ]
  },
  {
   "cell_type": "code",
   "execution_count": 1,
   "metadata": {},
   "outputs": [
    {
     "ename": "FileNotFoundError",
     "evalue": "[Errno 2] No such file or directory: 'test.txt'",
     "output_type": "error",
     "traceback": [
      "\u001b[0;31m---------------------------------------------------------------------------\u001b[0m",
      "\u001b[0;31mFileNotFoundError\u001b[0m                         Traceback (most recent call last)",
      "Cell \u001b[0;32mIn[1], line 2\u001b[0m\n\u001b[1;32m      1\u001b[0m filename \u001b[38;5;241m=\u001b[39m \u001b[38;5;124m'\u001b[39m\u001b[38;5;124mtest.txt\u001b[39m\u001b[38;5;124m'\u001b[39m\n\u001b[0;32m----> 2\u001b[0m fd \u001b[38;5;241m=\u001b[39m \u001b[38;5;28;43mopen\u001b[39;49m\u001b[43m(\u001b[49m\u001b[43mfilename\u001b[49m\u001b[43m)\u001b[49m\n\u001b[1;32m      4\u001b[0m \u001b[38;5;28;01mdef\u001b[39;00m \u001b[38;5;21mprocess_file\u001b[39m(file: \u001b[38;5;28mstr\u001b[39m):\n\u001b[1;32m      5\u001b[0m     \u001b[38;5;28mprint\u001b[39m(\u001b[38;5;124mf\u001b[39m\u001b[38;5;124m'\u001b[39m\u001b[38;5;132;01m{\u001b[39;00m\u001b[38;5;28mstr\u001b[39m\u001b[38;5;132;01m}\u001b[39;00m\u001b[38;5;124m processing...\u001b[39m\u001b[38;5;124m'\u001b[39m)\n",
      "File \u001b[0;32m~/Library/Python/3.10/lib/python/site-packages/IPython/core/interactiveshell.py:324\u001b[0m, in \u001b[0;36m_modified_open\u001b[0;34m(file, *args, **kwargs)\u001b[0m\n\u001b[1;32m    317\u001b[0m \u001b[38;5;28;01mif\u001b[39;00m file \u001b[38;5;129;01min\u001b[39;00m {\u001b[38;5;241m0\u001b[39m, \u001b[38;5;241m1\u001b[39m, \u001b[38;5;241m2\u001b[39m}:\n\u001b[1;32m    318\u001b[0m     \u001b[38;5;28;01mraise\u001b[39;00m \u001b[38;5;167;01mValueError\u001b[39;00m(\n\u001b[1;32m    319\u001b[0m         \u001b[38;5;124mf\u001b[39m\u001b[38;5;124m\"\u001b[39m\u001b[38;5;124mIPython won\u001b[39m\u001b[38;5;124m'\u001b[39m\u001b[38;5;124mt let you open fd=\u001b[39m\u001b[38;5;132;01m{\u001b[39;00mfile\u001b[38;5;132;01m}\u001b[39;00m\u001b[38;5;124m by default \u001b[39m\u001b[38;5;124m\"\u001b[39m\n\u001b[1;32m    320\u001b[0m         \u001b[38;5;124m\"\u001b[39m\u001b[38;5;124mas it is likely to crash IPython. If you know what you are doing, \u001b[39m\u001b[38;5;124m\"\u001b[39m\n\u001b[1;32m    321\u001b[0m         \u001b[38;5;124m\"\u001b[39m\u001b[38;5;124myou can use builtins\u001b[39m\u001b[38;5;124m'\u001b[39m\u001b[38;5;124m open.\u001b[39m\u001b[38;5;124m\"\u001b[39m\n\u001b[1;32m    322\u001b[0m     )\n\u001b[0;32m--> 324\u001b[0m \u001b[38;5;28;01mreturn\u001b[39;00m \u001b[43mio_open\u001b[49m\u001b[43m(\u001b[49m\u001b[43mfile\u001b[49m\u001b[43m,\u001b[49m\u001b[43m \u001b[49m\u001b[38;5;241;43m*\u001b[39;49m\u001b[43margs\u001b[49m\u001b[43m,\u001b[49m\u001b[43m \u001b[49m\u001b[38;5;241;43m*\u001b[39;49m\u001b[38;5;241;43m*\u001b[39;49m\u001b[43mkwargs\u001b[49m\u001b[43m)\u001b[49m\n",
      "\u001b[0;31mFileNotFoundError\u001b[0m: [Errno 2] No such file or directory: 'test.txt'"
     ]
    }
   ],
   "source": [
    "filename = 'test.txt'\n",
    "fd = open(filename)\n",
    "\n",
    "def process_file(file: str):\n",
    "    print(f'{str} processing...')\n",
    "\n",
    "try:\n",
    "    process_file(fd)\n",
    "finally: \n",
    "    fd.close()"
   ]
  },
  {
   "cell_type": "markdown",
   "metadata": {},
   "source": [
    "위 코드를 컨텍스트 관리자를 통해 파이썬스럽게 구현할 수 있다."
   ]
  },
  {
   "cell_type": "code",
   "execution_count": null,
   "metadata": {},
   "outputs": [],
   "source": [
    "with open(filename) as fd:\n",
    "    process_file(fd)"
   ]
  },
  {
   "cell_type": "markdown",
   "metadata": {},
   "source": [
    "`with`문은 컨텍스트 관리자 프로토콜을 구현한다. 즉 예외가 발생한 경우에도 블록이 완료되면 파일이 자동으로 닫힌다.\n",
    "- 컨텍스트 관리자는 아래 두개의 매직 메소드로 구성된다.\n",
    "    - `__enter__`\n",
    "    - `__exit__`\n",
    "- 스크립트를 사용해 데이터베이스 백업을 하려는 경우를 가정\n",
    "    - 백업은 오프라인 상태에서 해야하며 서비스를 잠시 중단해야한다.\n",
    "    - 백업이 끝나면 성공적으로 진행되었는지에 관계없이 프로세스를 다시 시작한다.\n"
   ]
  },
  {
   "cell_type": "code",
   "execution_count": null,
   "metadata": {},
   "outputs": [],
   "source": [
    "# 서비스를 중지하고 백업 후 예외 및 특이사항 처리, 서비스 재시작\n",
    "\n",
    "def stop_database():\n",
    "    run(\"systemctl stop postgresql.service\")\n",
    "\n",
    "def start_database():\n",
    "    run(\"systemctl start postgresql.service\")\n",
    "\n",
    "class DBHandler:\n",
    "    # 1. 서비스 중지\n",
    "    def __enter__(self):\n",
    "        stop_database()\n",
    "        return self # 쓸모가 없지만 일반적으로 __enter__ 에서 무언가를 반환하는 것은 좋은 습관\n",
    "    \n",
    "    # 블록에서 발생한 예외를 파라미터로 받음\n",
    "    # __exit__가 True를 반환하면 잠재적으로 발생한 예외를 호출자에게 전달하지 않는다. (주의)\n",
    "    def __exit__(self, exc_type, ex_value, ex_traceback):\n",
    "        start_database()\n",
    "\n",
    "# db 백업\n",
    "def db_backup():\n",
    "    run(\"pg_dump database\")\n",
    "\n",
    "def main():\n",
    "    with DBHandler():\n",
    "        db_backup()"
   ]
  },
  {
   "cell_type": "markdown",
   "metadata": {},
   "source": [
    "## contextlib\n",
    "\n",
    "`__enter__`와 `__exit__` 매직 메소드를 이용하면 컨텍스트 관리자 프로토콜을 지원할 수 있지만 `contextlib` 모듈을 이용하면 보다 쉽게 구현할 수 있다.\n",
    "- contextmanager 데코레이터를 적용하면 해당 함수의 코드를 컨텍스트 관리자로 변환한다.\n",
    "- 함수는 제너레이터 형태여야하며 코드의 문장을 __enter__, __exit__로 분리한다."
   ]
  },
  {
   "cell_type": "code",
   "execution_count": null,
   "metadata": {},
   "outputs": [],
   "source": [
    "import contextlib\n",
    "\n",
    "@contextlib.contextmanager\n",
    "def db_handler():\n",
    "    try:\n",
    "        stop_database()\n",
    "        yield # yeild 키워드를 이용해 제너레이터 함수 정의\n",
    "        # yeild 문 앞의 모든 것은 __enter__ 메소드의 일부처럼 취급된다.\n",
    "        # yeild 문 뒤의 모든 것은 __exit__ 로직으로 볼 수 있다.\n",
    "    finally:\n",
    "        start_database()\n",
    "\n",
    "with db_handler():\n",
    "    db_backup()"
   ]
  },
  {
   "cell_type": "markdown",
   "metadata": {},
   "source": [
    "- 컨텍스트 매니저를 작성하면 기존 함수를 리팩토링하기 쉽다.\n",
    "- 일반적으로 어느 특정 객체에도 속하지 않은 컨텍스트 관리자가 필요한 경우 좋은 방법이다."
   ]
  },
  {
   "cell_type": "markdown",
   "metadata": {},
   "source": [
    "## contextlib.ContextDecorator\n",
    "\n",
    "- 컨텍스트 관리자 안에서 실행될 함수에 데코레이터를 적용하기 위한 로직을 제공하는 믹스인 클래스\n",
    "    - 믹스인 클래스: 다른 클래스에서 필요한 기능만 섞어서 사용할 수 있도록 메소드만 제공하는 유틸리티 형태의 클래스"
   ]
  },
  {
   "cell_type": "code",
   "execution_count": null,
   "metadata": {},
   "outputs": [],
   "source": [
    "class dbhandler_decorator(contextlib.ContextDecorator):\n",
    "    def __enter__(self):\n",
    "        stop_database()\n",
    "        return self\n",
    "    \n",
    "    def __exit__(slef, ext_type, ex_value, ex_traceback):\n",
    "        start_database()\n",
    "\n",
    "# offline_backup() 함수가 컨텍스트 관리자 안에서 자동으로 실행됨\n",
    "@dbhandler_decorator()\n",
    "def offline_backup():\n",
    "    run(\"pg_dump database\")"
   ]
  },
  {
   "cell_type": "markdown",
   "metadata": {},
   "source": [
    "이 경우 유일한 단점은 완전히 독립적이기 때문에 offline_backup() 함수에서 꼭 필요한 경우에도 데코레이터 객체에 직접 접근할 수 없다는 점이다.\n",
    "\n",
    "접근이 필요한 경우 아래와 같이 우회하여 데코레이터 객체에 접근할 수 있다"
   ]
  },
  {
   "cell_type": "code",
   "execution_count": null,
   "metadata": {},
   "outputs": [],
   "source": [
    "def offline_backup():\n",
    "    with dbhandler_decorator() as handler: ..."
   ]
  },
  {
   "cell_type": "markdown",
   "metadata": {},
   "source": [
    "## contextlib.supress\n",
    "\n",
    "- 안전하다고 확신하는 경우 예외를 무시하는 기능이다.\n",
    "- suppress 메소드를 호출하면 로직에서 자체적으로 처리하고 있는 예외임을 명시한다."
   ]
  },
  {
   "cell_type": "code",
   "execution_count": 2,
   "metadata": {},
   "outputs": [],
   "source": [
    "import contextlib\n",
    "\n",
    "# input 데이터 파싱 시 오류가 발생하면 DataConversionException 발생\n",
    "with contextlib.suppress(DataConversionException):\n",
    "    parse_data(input_json_or_dict)"
   ]
  },
  {
   "cell_type": "code",
   "execution_count": null,
   "metadata": {},
   "outputs": [],
   "source": []
  }
 ],
 "metadata": {
  "kernelspec": {
   "display_name": "Python 3",
   "language": "python",
   "name": "python3"
  },
  "language_info": {
   "codemirror_mode": {
    "name": "ipython",
    "version": 3
   },
   "file_extension": ".py",
   "mimetype": "text/x-python",
   "name": "python",
   "nbconvert_exporter": "python",
   "pygments_lexer": "ipython3",
   "version": "3.10.11"
  }
 },
 "nbformat": 4,
 "nbformat_minor": 2
}

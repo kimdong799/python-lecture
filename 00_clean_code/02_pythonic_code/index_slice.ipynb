{
 "cells": [
  {
   "cell_type": "markdown",
   "metadata": {},
   "source": [
    "# 인덱스와 슬라이스\n",
    "\n",
    "- python은 다른 언어와 마찬가지로 인덱스를 통해 요소에 대한 접근이 가능하며 추가적으로 python스러운 다른 접근 방법들 또한 제공한다.\n"
   ]
  },
  {
   "cell_type": "code",
   "execution_count": 3,
   "metadata": {},
   "outputs": [
    {
     "name": "stdout",
     "output_type": "stream",
     "text": [
      "5\n",
      "3\n"
     ]
    }
   ],
   "source": [
    "numbers = [1, 2, 3, 4, 5]\n",
    "\n",
    "# 가장 마지막 원소\n",
    "print(numbers[-1])\n",
    "\n",
    "# 뒤에서 3번째 원소\n",
    "print(numbers[-3])"
   ]
  },
  {
   "cell_type": "markdown",
   "metadata": {},
   "source": [
    "slice를 사용하여 특정 구간의 요소를 구할 수 있다."
   ]
  },
  {
   "cell_type": "code",
   "execution_count": 4,
   "metadata": {},
   "outputs": [
    {
     "data": {
      "text/plain": [
       "[3, 4, 5]"
      ]
     },
     "execution_count": 4,
     "metadata": {},
     "output_type": "execute_result"
    }
   ],
   "source": [
    "numbers[2:5]"
   ]
  },
  {
   "cell_type": "markdown",
   "metadata": {},
   "source": [
    "시작, 끝, 간격 파라미터 중 하나를 제외할 수 있으며 이 경우 시퀀스의 처음 또는 끝에서부터 동작한다."
   ]
  },
  {
   "cell_type": "code",
   "execution_count": 10,
   "metadata": {},
   "outputs": [
    {
     "name": "stdout",
     "output_type": "stream",
     "text": [
      "[1, 2, 3]\n",
      "[4, 5]\n",
      "[1, 2, 3, 4, 5]\n",
      "[2, 4]\n"
     ]
    }
   ],
   "source": [
    "print(numbers[:3])\n",
    "print(numbers[3:])\n",
    "print(numbers[::]) # 복사본\n",
    "print(numbers[1:-1:2]) # 2번째 원소부터 마지막 원소 전까지 2간격씩"
   ]
  },
  {
   "cell_type": "markdown",
   "metadata": {},
   "source": [
    "slice함수는 내장 객체로 다음처럼 직접 호출 하는 것 또한 가능하다."
   ]
  },
  {
   "cell_type": "code",
   "execution_count": 14,
   "metadata": {},
   "outputs": [
    {
     "name": "stdout",
     "output_type": "stream",
     "text": [
      "[2, 4]\n",
      "True\n"
     ]
    }
   ],
   "source": [
    "interval = slice(1, 4, 2)\n",
    "print(numbers[interval])\n",
    "\n",
    "interval = slice(None, 3)\n",
    "print(numbers[interval] == numbers[:3])"
   ]
  },
  {
   "cell_type": "markdown",
   "metadata": {},
   "source": [
    "## 자체 시퀀스 생성"
   ]
  },
  {
   "cell_type": "markdown",
   "metadata": {},
   "source": [
    "python의 특별한 인덱싱, 슬라이싱은 `__getitem__` 이라는 매직메소드를 통해 구현된다.\n",
    "- myobject[key] 형태를 사용할 때 호출되는 메소드\n",
    "- key에 해당하는 대괄호 안의 값을 파라미터로 전달\n",
    "- 시퀀스는 `__len__`과 `__getitem__`을 모두 구현한 객체로 반복이 가능\n",
    "\n",
    "\n",
    "클래스가 표준 라이브러리를 감싸는 래퍼인 경우 기본 객체에 많은 동작을 위임 가능하다.\n",
    "- 리스트의 동일한 메소드 호출하여 호환성 유지"
   ]
  },
  {
   "cell_type": "code",
   "execution_count": 27,
   "metadata": {},
   "outputs": [
    {
     "data": {
      "text/plain": [
       "2"
      ]
     },
     "execution_count": 27,
     "metadata": {},
     "output_type": "execute_result"
    }
   ],
   "source": [
    "# 클래스가 시퀀스임을 선언하기 위해\n",
    "from collections.abc import Sequence\n",
    "\n",
    "class Items:\n",
    "    def __init__(self, *values):\n",
    "        self._values = list(values)\n",
    "\n",
    "    def __len__(self):\n",
    "        return len(self._values)\n",
    "    \n",
    "    def __getitem__(self, item):\n",
    "        return self._values.__getitem__(item)\n",
    "\n",
    "items = Items(1, 2, 3, 4, 5)\n",
    "items.__getitem__(1)"
   ]
  },
  {
   "cell_type": "markdown",
   "metadata": {},
   "source": [
    "클래스가 시퀀스임을 선언하기 위해 Sequence 인터페이스를 구현해야 한다.\n",
    "- 작성한 클래스가 Sequence 인터페이스 상속 시 어떤 클래스인지 명확해짐\n",
    "- 필요한 요건들을 추가 구현 가능\n",
    "\n",
    "만약 래퍼도 아니고 내장 객체를 사요하지 않은 경우는 자신만의 시퀀스를 구현해야한다.\n",
    "이 경우 아래의 사항에 유의하자.\n",
    "- 범위로 인덱싱하는 결과는 해당 클래스와 같은 타입의 인스턴스여야 한다.\n",
    "- slice에 의해 제공된 범위는 파이썬이 하는 것처럼 마지막 요소는 제외해야 한다."
   ]
  },
  {
   "cell_type": "code",
   "execution_count": null,
   "metadata": {},
   "outputs": [],
   "source": []
  }
 ],
 "metadata": {
  "kernelspec": {
   "display_name": "Python 3",
   "language": "python",
   "name": "python3"
  },
  "language_info": {
   "codemirror_mode": {
    "name": "ipython",
    "version": 3
   },
   "file_extension": ".py",
   "mimetype": "text/x-python",
   "name": "python",
   "nbconvert_exporter": "python",
   "pygments_lexer": "ipython3",
   "version": "3.10.11"
  }
 },
 "nbformat": 4,
 "nbformat_minor": 2
}

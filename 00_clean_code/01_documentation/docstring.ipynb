{
 "cells": [
  {
   "cell_type": "markdown",
   "metadata": {},
   "source": [
    "# Docstring"
   ]
  },
  {
   "cell_type": "markdown",
   "metadata": {},
   "source": [
    "- docstirng은 소스코드에 포함된 **문서(Documentation)**라고 말할 수 있다.\n",
    "- docstring은 기본적으로 리터럴 문자열이다.\n",
    "- docstring은 모듈, 클래스, 메소드 또는 함수에 대해 문서를 제공하기 위한 것이다.\n",
    "    - 다른 엔지니어가 사용하려고 할 때 docstring을 보고 동작방식과 입출력 정도 등을 확인할 수 있어야한다.\n",
    "    - python은 동적 데이터 타입을 갖기 때문에 중요한 모듈의 경우 docstirng 작성을 권장한다."
   ]
  },
  {
   "cell_type": "code",
   "execution_count": 1,
   "metadata": {},
   "outputs": [
    {
     "name": "stdout",
     "output_type": "stream",
     "text": [
      "\u001b[0;31mDocstring:\u001b[0m\n",
      "D.update([E, ]**F) -> None.  Update D from dict/iterable E and F.\n",
      "If E is present and has a .keys() method, then does:  for k in E: D[k] = E[k]\n",
      "If E is present and lacks a .keys() method, then does:  for k, v in E: D[k] = v\n",
      "In either case, this is followed by: for k in F:  D[k] = F[k]\n",
      "\u001b[0;31mType:\u001b[0m      method_descriptor"
     ]
    }
   ],
   "source": [
    "# 표준 라이브러리 docstring\n",
    "dict.update??"
   ]
  },
  {
   "cell_type": "markdown",
   "metadata": {},
   "source": [
    "`??` 키워드를 통해 해당 함수를 어떻게 사용할 수 있는지 확인할 수 있다."
   ]
  },
  {
   "cell_type": "markdown",
   "metadata": {},
   "source": [
    "## Docstring 작성 방법"
   ]
  },
  {
   "cell_type": "code",
   "execution_count": 4,
   "metadata": {},
   "outputs": [
    {
     "data": {
      "text/plain": [
       "'임의의 계산 수행'"
      ]
     },
     "execution_count": 4,
     "metadata": {},
     "output_type": "execute_result"
    }
   ],
   "source": [
    "# docstring은 __doc__ 매직 메소드로 확인 가능하다.\n",
    "def my_function() -> None:\n",
    "    \"\"\"임의의 계산 수행\"\"\"\n",
    "    return None\n",
    "\n",
    "my_function.__doc__"
   ]
  },
  {
   "cell_type": "markdown",
   "metadata": {},
   "source": [
    "- docstring은 속성으로 존재하여 런타임 중에 접근할 수 있다.\n",
    "- `Sphinx`를 실행하면 프로젝트 문서화를 위한 기본 골격을 만들어준다.\n",
    "- 특히 `autodoc` 익스텐션을 사용하면 코드에서 docstring을 이용해 문서화된 페이지를 만들 수 있다.\n",
    "- docstring은 모든 문서화가 그렇듯이 지속적으로 수작업을 해야한다는 것이다.\n",
    "    - 간단한 코드라면 불필요한 유지보수를 피하기 위해 작성하지 않는 것도 고려해볼 수 있다.\n",
    "    - 중요한 것은 팀원 모두가 문서화에 노력을 해야한다는 것에 공감하는 것이다."
   ]
  },
  {
   "cell_type": "code",
   "execution_count": null,
   "metadata": {},
   "outputs": [],
   "source": []
  }
 ],
 "metadata": {
  "kernelspec": {
   "display_name": "Python 3",
   "language": "python",
   "name": "python3"
  },
  "language_info": {
   "codemirror_mode": {
    "name": "ipython",
    "version": 3
   },
   "file_extension": ".py",
   "mimetype": "text/x-python",
   "name": "python",
   "nbconvert_exporter": "python",
   "pygments_lexer": "ipython3",
   "version": "3.10.11"
  }
 },
 "nbformat": 4,
 "nbformat_minor": 2
}

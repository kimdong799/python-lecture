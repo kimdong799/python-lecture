{
 "cells": [
  {
   "cell_type": "markdown",
   "metadata": {},
   "source": [
    "# Annotation"
   ]
  },
  {
   "cell_type": "markdown",
   "metadata": {},
   "source": [
    "- annotation은 코드 사용자에게 함수 인자로 어떤 값이 와야 하는지 `힌트`를 주는 것이다."
   ]
  },
  {
   "cell_type": "code",
   "execution_count": 7,
   "metadata": {},
   "outputs": [],
   "source": [
    "# 어노테이션을 이용한 변수의 예상 타입 지정\n",
    "from dataclasses import dataclass\n",
    "\n",
    "@dataclass\n",
    "class Point:\n",
    "    lat: float\n",
    "    long: float\n",
    "\n",
    "def locate(latitude: float, longitude: float) -> Point: #함수 반환 값 예상 타입 지정\n",
    "    \"\"\"맵에서 좌표에 해당하는 객체를 검색\"\"\""
   ]
  },
  {
   "cell_type": "markdown",
   "metadata": {},
   "source": [
    "- latitude, longitude는 float 타입의 변수이다.\n",
    "- locate 함수는 Point 인스턴스를 반환하는 것 또한 예상할 수 있다.\n",
    "- 이를 통해 사용자는 특정 함수에 필요한 변수의 타입에 대한 정보를 얻을 수 있다.\n",
    "- 하지만 어노테이션은 말 그대로 힌트를 줄 뿐 타입을 강제하지 않는다.\n",
    "- **어노테이션은 타입 뿐만 아니라 파이썬 인터프리터에서 유효한 모든 것을 사용할 수 있다.**\n",
    "    - 변수의 의도를 설명하는 문자열, 콜백이나 유효성 검사 함수로 사용할 수 있는 callable\n",
    "\n",
    "\n",
    "delay_in_seconds 파라미터는 긴 이름을 가지고 있어 많은 정보를 제공하는 것 같지만 다음의 정보가 부족하다.\n",
    "- 허용 가능한 시간은?\n",
    "- 분수를 입력해도 되나?\n",
    "- 코드를 이렇게 수정하면 어떻게 되나?\n",
    "\n",
    "```\n",
    "def launch_task(delay_in_seconds):\n",
    "    ...\n",
    "```\n",
    "\n",
    "어노테이션을 사용하면 `__annotation__` 이라는 특수한 속성이 생긴다.\n",
    "- 어노테이션의 이름과 값을 맵핑한 사전 타입의 값이다."
   ]
  },
  {
   "cell_type": "code",
   "execution_count": 15,
   "metadata": {},
   "outputs": [
    {
     "data": {
      "text/plain": [
       "{'delay': 'please pass second variable(int)',\n",
       " 'return': 'wait for {delay} seconds'}"
      ]
     },
     "execution_count": 15,
     "metadata": {},
     "output_type": "execute_result"
    }
   ],
   "source": [
    "def launch_task(delay: \"please pass second variable(int)\") -> \"wait for {delay} seconds\":\n",
    "    pass\n",
    "\n",
    "launch_task.__annotations__"
   ]
  },
  {
   "cell_type": "code",
   "execution_count": 11,
   "metadata": {},
   "outputs": [
    {
     "data": {
      "text/plain": [
       "{'delay': 'please pass second variable(int)'}"
      ]
     },
     "execution_count": 11,
     "metadata": {},
     "output_type": "execute_result"
    }
   ],
   "source": [
    "def launch_task(delay: \"please pass second variable(int)\"):\n",
    "    pass\n",
    "\n",
    "launch_task.__annotations__"
   ]
  },
  {
   "cell_type": "markdown",
   "metadata": {},
   "source": [
    "## 어노테이션의 명시적 표현"
   ]
  },
  {
   "cell_type": "markdown",
   "metadata": {},
   "source": [
    "- 타입 힌트는 단순히 데이터 타입을 알려주는 것 뿐만 아니라 적절한 데이터 타입 추상화를 하도록 도와줄 수 있다.\n",
    "- 클라이언트 배열에서 어떤 작업을 수행하는 함수가 있다고 가정해보자."
   ]
  },
  {
   "cell_type": "code",
   "execution_count": 22,
   "metadata": {},
   "outputs": [
    {
     "name": "stdout",
     "output_type": "stream",
     "text": [
      "{'clients': <class 'list'>}\n"
     ]
    }
   ],
   "source": [
    "def process_clients(clients: list):\n",
    "    pass\n",
    "\n",
    "print(process_clients.__annotations__)"
   ]
  },
  {
   "cell_type": "markdown",
   "metadata": {},
   "source": [
    "- clients라는 이름의 변수가 list 타입이라는 힌트를 얻을 수 있다.\n",
    "- 여기서 그치지 않고 더 많은 정보를 주기 위해 아래와 같이 코드를 수정할 수 있다."
   ]
  },
  {
   "cell_type": "code",
   "execution_count": 27,
   "metadata": {},
   "outputs": [
    {
     "name": "stdout",
     "output_type": "stream",
     "text": [
      "{'clients': list[tuple[int, str]]}\n"
     ]
    }
   ],
   "source": [
    "def process_clients(clients: list[tuple[int, str]]):\n",
    "    pass\n",
    "\n",
    "print(process_clients.__annotations__)"
   ]
  },
  {
   "cell_type": "markdown",
   "metadata": {},
   "source": [
    "- clients라는 변수가 어떤 데이터 타입인지 확인할 수 있지만 아래와 같이 데이터 구조를 따로 정의하여 명시적으로 어노테이션을 작성하는 것이 바람직하다.\n",
    "- 아래와 같이 어노테이션을 작성하는 경우 나중에 다른 객체나 클래스로 변경해도 어노테이션을 그대로 사용할 수 있다는 장점이 있다.\n",
    "- 이러한 방법의 취지는 유의미한 문법 구조를 통해 코드의 의미나 의도를 더욱 쉽게 이해할 수 있도록 하자는 것이다."
   ]
  },
  {
   "cell_type": "code",
   "execution_count": 35,
   "metadata": {},
   "outputs": [
    {
     "name": "stdout",
     "output_type": "stream",
     "text": [
      "{'cleints': list[typing.Tuple[int, str]]}\n"
     ]
    }
   ],
   "source": [
    "from typing import Tuple\n",
    "Client = Tuple[int, str]\n",
    "def process_clients(cleints: list[Client]):\n",
    "    pass\n",
    "\n",
    "print(process_clients.__annotations__)"
   ]
  },
  {
   "cell_type": "markdown",
   "metadata": {},
   "source": [
    "### @dataclass 데코레이터를 이용한 자동 속성 할당\n",
    "\n",
    "- PEP-526, PEP-557 표준을 도입하면 클래스를 보다 간결하게 작성하고 작은 컨테이너 객체를 쉽게 정의할 수 있다.\n",
    "- 클래스에서 데이터 타입에 대한 어노테이션과 함게 속성을 선언하고 @dataclass 데코레이터를 이용하면 별도의 __init__ 메소드에서 변수를 선언하고 할당하는 작업을 하지 않아도 바로 인스턴스 속성으로 인식한다."
   ]
  },
  {
   "cell_type": "code",
   "execution_count": 44,
   "metadata": {},
   "outputs": [
    {
     "name": "stdout",
     "output_type": "stream",
     "text": [
      "lat : 10 | long : 20\n",
      "\n",
      "{'lat': <class 'float'>, 'long': <class 'float'>}\n",
      "lat : 10 | long : 20\n"
     ]
    }
   ],
   "source": [
    "# Before\n",
    "class Point:\n",
    "    def __init__(self, lat, long):\n",
    "        self.lat = lat\n",
    "        self.long = long\n",
    "\n",
    "p1 = Point(10, 20)\n",
    "print(f'lat : {p1.lat} | long : {p1.long}\\n')\n",
    "\n",
    "# After\n",
    "# __init__ 메소드 미사용\n",
    "from dataclasses import dataclass\n",
    "@dataclass\n",
    "class Point:\n",
    "    lat: float\n",
    "    long: float\n",
    "\n",
    "p2 = Point(10, 20)\n",
    "print(p2.__annotations__)\n",
    "print(f'lat : {p1.lat} | long : {p1.long}')\n"
   ]
  },
  {
   "cell_type": "markdown",
   "metadata": {},
   "source": [
    "## 어노테이션은 docstrig을 대체하는가?"
   ]
  },
  {
   "cell_type": "markdown",
   "metadata": {},
   "source": [
    "- docstring에 포함된 정보의 일부는 어노테이션으로 이동시킬 수 있다.\n",
    "- 동적 데이터 타입과 중첩 데이터 타입의 경우 예상 데이터 예제를 제공하여 어떤 형태의 데이터를 다루는지 제공하는 것이 좋다."
   ]
  },
  {
   "cell_type": "markdown",
   "metadata": {},
   "source": [
    "다음과 같은 데이터 유효성 검사 함수가 있다고 가정해보자.\n",
    "\n",
    "- **알 수 있는 정보**\n",
    "    - 사전 형태의 파라미터를 받아 사전 형태의 값을 반환\n",
    "- **알 수 없는 정보**\n",
    "    - response 객체의 올바른 인스턴스는 어떤 형태인가?\n",
    "    - 결과의 인스턴스는 어떤 형태인가?\n",
    "\n",
    "위의 두가지 질문에 모두 대답하기 위해선 docstring을 보완하여 작성하는 것이 바람직하다."
   ]
  },
  {
   "cell_type": "code",
   "execution_count": 45,
   "metadata": {},
   "outputs": [
    {
     "name": "stdout",
     "output_type": "stream",
     "text": [
      "response의 HTTP status가 200이라면 response의 payload를 반환\n",
      "    - response 사전의 예제::\n",
      "    {\n",
      "        \"status\": 200, # <int>\n",
      "        \"timestamp\": \"...\", # 현재 시간의 ISO 포맷 문자열\n",
      "        \"payload\": {...} # 반환하려는 사전 데이터\n",
      "    }\n",
      "    - 반환 사전 값의 예제::\n",
      "    {\"data\": {...}}\n",
      "    - 발생 가능한 예외:\n",
      "    - HTTP status가 200이 아닌 경우 ValueError 발생\n",
      "    \n"
     ]
    }
   ],
   "source": [
    "# 데이터 유효성 검사 함수\n",
    "def data_from_response(response: dict) -> dict:\n",
    "    if response[\"status\"] != 200:\n",
    "        raise ValueError\n",
    "    return {\"data\": response[\"payload\"]}\n",
    "\n",
    "\n",
    "# docstring 작성\n",
    "def data_from_response(response: dict) -> dict:\n",
    "    \"\"\"response의 HTTP status가 200이라면 response의 payload를 반환\n",
    "    - response 사전의 예제::\n",
    "    {\n",
    "        \"status\": 200, # <int>\n",
    "        \"timestamp\": \"...\", # 현재 시간의 ISO 포맷 문자열\n",
    "        \"payload\": {...} # 반환하려는 사전 데이터\n",
    "    }\n",
    "    - 반환 사전 값의 예제::\n",
    "    {\"data\": {...}}\n",
    "    - 발생 가능한 예외:\n",
    "    - HTTP status가 200이 아닌 경우 ValueError 발생\n",
    "    \"\"\"\n",
    "    if response[\"status\"] != 200:\n",
    "        raise ValueError\n",
    "    return {\"data\": response[\"payload\"]}\n",
    "\n",
    "print(data_from_response.__doc__)"
   ]
  },
  {
   "cell_type": "markdown",
   "metadata": {},
   "source": [
    "## 데이터 타입 일관성 검사 (mypy)\n",
    "```\n",
    "$ pip install mypy\n",
    "```\n",
    "- 가상환경에 mypy를 설치하고 mypy [파일명] 명령어를 실행하면 의심이 되는 오류를 반환한다.\n",
    "- mypy의 오류 탐지가 잘못된 탐지로 생각되면 다음과 같이 해당 라인에 대한 검사를 무시하도록 할 수 있다.\n",
    "```\n",
    "type_to_ignore = \"something\" # type: ignore\n",
    "```\n",
    "- mypy나 기타 타입 검사 도구가 유용하게 쓰이기 위한 사전 조건은 `어노테이션`을 정확하게 작성하는 것이다.\n",
    "- 예를 들어 다음과 같은 코드는 mypy에서 오류를 보고하지 않을 것이다.\n",
    "```\n",
    "def broadcast_notification(\n",
    "    message: str,\n",
    "    relevant_user_emails = Iterable[str]\n",
    "\n",
    "    for email in relevant_user_emails:\n",
    "        logger.info(f\"{message} 메세지를 {email}에게 전달\")\n",
    ")\n",
    "\n",
    "broadcast_notification(\"welcome\", \"user1@domain.com)\n",
    "```\n",
    "위 코드의 경우 String역시 Iterable하므로 mypy에서 오류를 반환하지 않고 잘못된 코드가 실행 될 것이다.\n"
   ]
  }
 ],
 "metadata": {
  "kernelspec": {
   "display_name": "Python 3",
   "language": "python",
   "name": "python3"
  },
  "language_info": {
   "codemirror_mode": {
    "name": "ipython",
    "version": 3
   },
   "file_extension": ".py",
   "mimetype": "text/x-python",
   "name": "python",
   "nbconvert_exporter": "python",
   "pygments_lexer": "ipython3",
   "version": "3.10.11"
  }
 },
 "nbformat": 4,
 "nbformat_minor": 2
}

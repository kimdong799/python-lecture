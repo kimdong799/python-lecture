{
 "cells": [
  {
   "cell_type": "markdown",
   "metadata": {},
   "source": [
    "# Socker Server - Framework for network servers"
   ]
  },
  {
   "cell_type": "markdown",
   "metadata": {},
   "source": [
    "- sockerserver 모듈은 네트워크 서버 작성 작업을 단순화\n",
    "- **4가지 서버 구상 클래스**\n",
    "  - TCPServer\n",
    "    - 클라이언트와 서버 간 지속적인 데이트 스트림을 제공하는 TCP 프로토콜 사용\n",
    "  - UDPServer\n",
    "    - 순서가 잘못되거나 전송 중 손실될 수 있는 이산적 정보 패킷인 데이터 그램을 사용\n",
    "  - UnixStreamServer\n",
    "  - UnixDatagramServer\n",
    "    - TCP, UDP 클래스와 비슷하지만, 유닉스 도메인 소켓을 사용하는 자주 사용되지 않는 클래스\n",
    "    - 유닉스 이외의 플랫폼에서는 사용할 수 없음\n",
    "\n",
    "- 네가지 클래스는 동기적(Synchronously) 요청을 처리함\n",
    "- 다음 요청을 시작하기 전 각 요청을 완료해야함\n",
    "- 각 요청을 완료하는 데 시간이 오래 걸리면 적합하지 않음\n",
    "- 별도의 프로세스, 스레드를 이용하면 비동기적(Asynchronously) 처리 지원\n",
    "  - **ForkinMixIn**, **ThreadingMixIn** 과 같은 믹스인 클래스 사용"
   ]
  },
  {
   "cell_type": "markdown",
   "metadata": {},
   "source": [
    "# 서버 생성 노트\n",
    "상속 다이어그램에는 5개의 클래스가 있으며, 그 중 4개는 4가지 유형의 동기 서버를 나타냄\n",
    "\n",
    "```\n",
    "+------------+\n",
    "| BaseServer |\n",
    "+------------+\n",
    "      |\n",
    "      v\n",
    "+-----------+        +------------------+\n",
    "| TCPServer |------->| UnixStreamServer |\n",
    "+-----------+        +------------------+\n",
    "      |\n",
    "      v\n",
    "+-----------+        +--------------------+\n",
    "| UDPServer |------->| UnixDatagramServer |\n",
    "+-----------+        +--------------------+\n",
    "```"
   ]
  },
  {
   "cell_type": "markdown",
   "metadata": {},
   "source": [
    "아래의 믹스인 클래스를 사용하여 각 서버의 포킹(forking)과 스레딩(threading) 버전을 만들 수 있음.\n",
    "\n",
    "class socketserver.**ForkingMixIn**\n",
    "\n",
    "class socketserver.**ThreadingMixIn**\n",
    "\n",
    "## ThreadingUDPServer 생성"
   ]
  },
  {
   "cell_type": "code",
   "execution_count": 3,
   "metadata": {},
   "outputs": [],
   "source": [
    "import socketserver\n",
    "\n",
    "# ThreadingUDPServer\n",
    "class ThreadingUDPServer(socketserver.ThreadingMixIn, socketserver.UDPServer):\n",
    "  pass"
   ]
  },
  {
   "cell_type": "markdown",
   "metadata": {},
   "source": [
    "- 서비스를 구현하기 위해선 **BaseRequestHandler**에서 클래스를 파생시키고 **handle()** 메소드를 오버라이딩 해야함\n",
    "- 서버 클래스 중 하나와 요청 처리기 클래스를 결합하여 다양한 버전의 서비스 실행 가능"
   ]
  },
  {
   "cell_type": "markdown",
   "metadata": {},
   "source": [
    "# 서버 객체 & 요청 처리기 객체\n",
    "https://docs.python.org/ko/3/library/socketserver.html#server-creation-notes 참고"
   ]
  },
  {
   "cell_type": "markdown",
   "metadata": {},
   "source": [
    "# TCP server 구현 예시"
   ]
  },
  {
   "cell_type": "code",
   "execution_count": 7,
   "metadata": {},
   "outputs": [
    {
     "name": "stdout",
     "output_type": "stream",
     "text": [
      "Recieved from 127.0.0.1\n",
      "b'GET / HTTP/1.1\\r\\nHost: localhost:9999\\r\\nConnection: keep-alive\\r\\nCache-Control: max-age=0\\r\\nsec-ch-ua: \"Google Chrome\";v=\"125\", \"Chromium\";v=\"125\", \"Not.A/Brand\";v=\"24\"\\r\\nsec-ch-ua-mobile: ?0\\r\\nsec-ch-ua-platform: \"Windows\"\\r\\nUpgrade-Insecure-Requests: 1\\r\\nUser-Agent: Mozilla/5.0 (Windows NT 10.0; Win64; x64) AppleWebKit/537.36 (KHTML, like Gecko) Chrome/125.0.0.0 Safari/537.36\\r\\nAccept: text/html,application/xhtml+xml,application/xml;q=0.9,image/avif,image/webp,image/apng,*/*;q=0.8,application/signed-exchange;v=b3;q=0.7\\r\\nSec-Fetch-Site: none\\r\\nSec-Fetch-Mode: navigate\\r\\nSec-Fetch-User: ?1\\r\\nSec-Fetch-Dest: document\\r\\nAccept-Encoding: gzip, deflate, br, zstd\\r\\nAccept-Language: ko-KR,ko;q=0.9,en-US;q=0.8,en;q=0.7\\r\\nCookie: username-localhost-8888=2|1:0|10:1719279671|23:username-localhost-8888|188:eyJ1c2VybmFtZSI6ICIwZDY3Nzc5NGZjYTE0ZjgzOWQwYzU1MDgxNDAxMjVmOCIsICJuYW1lIjogIkFub255bW91cyBLb3JlIiwgImRpc3BsYXlfbmFtZSI6ICJBbm9ueW1vdXMgS29yZSIsICJpbml0aWFscyI6ICJBSyIsICJjb2xvciI6IG51bGx9|e48f6f8f6aefc72692bb0b1aa14f26e220592438a5c'\n",
      "Recieved from 127.0.0.1\n",
      "b'GET / HTTP/1.1\\r\\nHost: localhost:9999\\r\\nConnection: keep-alive\\r\\nCache-Control: max-age=0\\r\\nsec-ch-ua: \"Google Chrome\";v=\"125\", \"Chromium\";v=\"125\", \"Not.A/Brand\";v=\"24\"\\r\\nsec-ch-ua-mobile: ?0\\r\\nsec-ch-ua-platform: \"Windows\"\\r\\nUpgrade-Insecure-Requests: 1\\r\\nUser-Agent: Mozilla/5.0 (Windows NT 10.0; Win64; x64) AppleWebKit/537.36 (KHTML, like Gecko) Chrome/125.0.0.0 Safari/537.36\\r\\nAccept: text/html,application/xhtml+xml,application/xml;q=0.9,image/avif,image/webp,image/apng,*/*;q=0.8,application/signed-exchange;v=b3;q=0.7\\r\\nSec-Fetch-Site: none\\r\\nSec-Fetch-Mode: navigate\\r\\nSec-Fetch-User: ?1\\r\\nSec-Fetch-Dest: document\\r\\nAccept-Encoding: gzip, deflate, br, zstd\\r\\nAccept-Language: ko-KR,ko;q=0.9,en-US;q=0.8,en;q=0.7\\r\\nCookie: username-localhost-8888=2|1:0|10:1719279671|23:username-localhost-8888|188:eyJ1c2VybmFtZSI6ICIwZDY3Nzc5NGZjYTE0ZjgzOWQwYzU1MDgxNDAxMjVmOCIsICJuYW1lIjogIkFub255bW91cyBLb3JlIiwgImRpc3BsYXlfbmFtZSI6ICJBbm9ueW1vdXMgS29yZSIsICJpbml0aWFscyI6ICJBSyIsICJjb2xvciI6IG51bGx9|e48f6f8f6aefc72692bb0b1aa14f26e220592438a5c'\n"
     ]
    },
    {
     "ename": "KeyboardInterrupt",
     "evalue": "",
     "output_type": "error",
     "traceback": [
      "\u001b[1;31m---------------------------------------------------------------------------\u001b[0m",
      "\u001b[1;31mKeyboardInterrupt\u001b[0m                         Traceback (most recent call last)",
      "Cell \u001b[1;32mIn[7], line 27\u001b[0m\n\u001b[0;32m     24\u001b[0m \u001b[38;5;66;03m# 서버를 생성하고 localhost:9999 를 바인딩\u001b[39;00m\n\u001b[0;32m     25\u001b[0m \u001b[38;5;66;03m# 서버 활성화, Ctrl-C : 서버 종료\u001b[39;00m\n\u001b[0;32m     26\u001b[0m \u001b[38;5;28;01mwith\u001b[39;00m socketserver\u001b[38;5;241m.\u001b[39mTCPServer((HOST, PORT), MyTCPHandler) \u001b[38;5;28;01mas\u001b[39;00m server:\n\u001b[1;32m---> 27\u001b[0m   \u001b[43mserver\u001b[49m\u001b[38;5;241;43m.\u001b[39;49m\u001b[43mserve_forever\u001b[49m\u001b[43m(\u001b[49m\u001b[43m)\u001b[49m\n",
      "File \u001b[1;32mc:\\Users\\hyundai\\AppData\\Local\\Programs\\Python\\Python311\\Lib\\socketserver.py:238\u001b[0m, in \u001b[0;36mBaseServer.serve_forever\u001b[1;34m(self, poll_interval)\u001b[0m\n\u001b[0;32m    236\u001b[0m                 \u001b[39mbreak\u001b[39;00m\n\u001b[0;32m    237\u001b[0m             \u001b[39mif\u001b[39;00m ready:\n\u001b[1;32m--> 238\u001b[0m                 \u001b[39mself\u001b[39;49m\u001b[39m.\u001b[39;49m_handle_request_noblock()\n\u001b[0;32m    240\u001b[0m             \u001b[39mself\u001b[39m\u001b[39m.\u001b[39mservice_actions()\n\u001b[0;32m    241\u001b[0m \u001b[39mfinally\u001b[39;00m:\n",
      "File \u001b[1;32mc:\\Users\\hyundai\\AppData\\Local\\Programs\\Python\\Python311\\Lib\\socketserver.py:317\u001b[0m, in \u001b[0;36mBaseServer._handle_request_noblock\u001b[1;34m(self)\u001b[0m\n\u001b[0;32m    315\u001b[0m \u001b[39mif\u001b[39;00m \u001b[39mself\u001b[39m\u001b[39m.\u001b[39mverify_request(request, client_address):\n\u001b[0;32m    316\u001b[0m     \u001b[39mtry\u001b[39;00m:\n\u001b[1;32m--> 317\u001b[0m         \u001b[39mself\u001b[39;49m\u001b[39m.\u001b[39;49mprocess_request(request, client_address)\n\u001b[0;32m    318\u001b[0m     \u001b[39mexcept\u001b[39;00m \u001b[39mException\u001b[39;00m:\n\u001b[0;32m    319\u001b[0m         \u001b[39mself\u001b[39m\u001b[39m.\u001b[39mhandle_error(request, client_address)\n",
      "File \u001b[1;32mc:\\Users\\hyundai\\AppData\\Local\\Programs\\Python\\Python311\\Lib\\socketserver.py:348\u001b[0m, in \u001b[0;36mBaseServer.process_request\u001b[1;34m(self, request, client_address)\u001b[0m\n\u001b[0;32m    342\u001b[0m \u001b[39mdef\u001b[39;00m \u001b[39mprocess_request\u001b[39m(\u001b[39mself\u001b[39m, request, client_address):\n\u001b[0;32m    343\u001b[0m \u001b[39m    \u001b[39m\u001b[39m\"\"\"Call finish_request.\u001b[39;00m\n\u001b[0;32m    344\u001b[0m \n\u001b[0;32m    345\u001b[0m \u001b[39m    Overridden by ForkingMixIn and ThreadingMixIn.\u001b[39;00m\n\u001b[0;32m    346\u001b[0m \n\u001b[0;32m    347\u001b[0m \u001b[39m    \"\"\"\u001b[39;00m\n\u001b[1;32m--> 348\u001b[0m     \u001b[39mself\u001b[39;49m\u001b[39m.\u001b[39;49mfinish_request(request, client_address)\n\u001b[0;32m    349\u001b[0m     \u001b[39mself\u001b[39m\u001b[39m.\u001b[39mshutdown_request(request)\n",
      "File \u001b[1;32mc:\\Users\\hyundai\\AppData\\Local\\Programs\\Python\\Python311\\Lib\\socketserver.py:361\u001b[0m, in \u001b[0;36mBaseServer.finish_request\u001b[1;34m(self, request, client_address)\u001b[0m\n\u001b[0;32m    359\u001b[0m \u001b[39mdef\u001b[39;00m \u001b[39mfinish_request\u001b[39m(\u001b[39mself\u001b[39m, request, client_address):\n\u001b[0;32m    360\u001b[0m \u001b[39m    \u001b[39m\u001b[39m\"\"\"Finish one request by instantiating RequestHandlerClass.\"\"\"\u001b[39;00m\n\u001b[1;32m--> 361\u001b[0m     \u001b[39mself\u001b[39;49m\u001b[39m.\u001b[39;49mRequestHandlerClass(request, client_address, \u001b[39mself\u001b[39;49m)\n",
      "File \u001b[1;32mc:\\Users\\hyundai\\AppData\\Local\\Programs\\Python\\Python311\\Lib\\socketserver.py:755\u001b[0m, in \u001b[0;36mBaseRequestHandler.__init__\u001b[1;34m(self, request, client_address, server)\u001b[0m\n\u001b[0;32m    753\u001b[0m \u001b[39mself\u001b[39m\u001b[39m.\u001b[39msetup()\n\u001b[0;32m    754\u001b[0m \u001b[39mtry\u001b[39;00m:\n\u001b[1;32m--> 755\u001b[0m     \u001b[39mself\u001b[39;49m\u001b[39m.\u001b[39;49mhandle()\n\u001b[0;32m    756\u001b[0m \u001b[39mfinally\u001b[39;00m:\n\u001b[0;32m    757\u001b[0m     \u001b[39mself\u001b[39m\u001b[39m.\u001b[39mfinish()\n",
      "Cell \u001b[1;32mIn[7], line 14\u001b[0m, in \u001b[0;36mMyTCPHandler.handle\u001b[1;34m(self)\u001b[0m\n\u001b[0;32m     12\u001b[0m \u001b[38;5;28;01mdef\u001b[39;00m \u001b[38;5;21mhandle\u001b[39m(\u001b[38;5;28mself\u001b[39m):\n\u001b[0;32m     13\u001b[0m   \u001b[38;5;66;03m# self.request는 클라이언트에 연결된 TCP 소켓\u001b[39;00m\n\u001b[1;32m---> 14\u001b[0m   \u001b[38;5;28mself\u001b[39m\u001b[38;5;241m.\u001b[39mdata \u001b[38;5;241m=\u001b[39m \u001b[38;5;28;43mself\u001b[39;49m\u001b[38;5;241;43m.\u001b[39;49m\u001b[43mrequest\u001b[49m\u001b[38;5;241;43m.\u001b[39;49m\u001b[43mrecv\u001b[49m\u001b[43m(\u001b[49m\u001b[38;5;241;43m1024\u001b[39;49m\u001b[43m)\u001b[49m\u001b[38;5;241m.\u001b[39mstrip()\n\u001b[0;32m     15\u001b[0m   \u001b[38;5;28mprint\u001b[39m(\u001b[38;5;124mf\u001b[39m\u001b[38;5;124m\"\u001b[39m\u001b[38;5;124mRecieved from \u001b[39m\u001b[38;5;132;01m{\u001b[39;00m\u001b[38;5;28mself\u001b[39m\u001b[38;5;241m.\u001b[39mclient_address[\u001b[38;5;241m0\u001b[39m]\u001b[38;5;132;01m}\u001b[39;00m\u001b[38;5;124m\"\u001b[39m)\n\u001b[0;32m     16\u001b[0m   \u001b[38;5;28mprint\u001b[39m(\u001b[38;5;28mself\u001b[39m\u001b[38;5;241m.\u001b[39mdata)\n",
      "\u001b[1;31mKeyboardInterrupt\u001b[0m: "
     ]
    }
   ],
   "source": [
    "import socketserver\n",
    "\n",
    "class MyTCPHandler(socketserver.BaseRequestHandler):\n",
    "  \"\"\"\n",
    "  The request handler class for our server.\n",
    "  \n",
    "  It is instantiated onece per connection to the server, and must\n",
    "  override the handle() method to implement communication to the client.\n",
    "  \"\"\"\n",
    "  \n",
    "  # handle() 메소드 오버라이딩 \n",
    "  def handle(self):\n",
    "    # self.request는 클라이언트에 연결된 TCP 소켓\n",
    "    self.data = self.request.recv(1024).strip()\n",
    "    print(f\"Recieved from {self.client_address[0]}\")\n",
    "    print(self.data)\n",
    "    \n",
    "    # 동일한 데이터를 대문자로 다시 보냄\n",
    "    self.request.sendall(self.data.upper())\n",
    "    \n",
    "if __name__ == \"__main__\":\n",
    "  HOST, PORT = \"localhost\", 9999\n",
    "  \n",
    "  # 서버를 생성하고 localhost:9999 를 바인딩\n",
    "  # 서버 활성화, Ctrl-C : 서버 종료\n",
    "  with socketserver.TCPServer((HOST, PORT), MyTCPHandler) as server:\n",
    "    server.serve_forever()"
   ]
  },
  {
   "cell_type": "code",
   "execution_count": 5,
   "metadata": {},
   "outputs": [],
   "source": [
    "# 스트림(표준 파일 인터페이스를 제공하여 통신을 단순화하는 파일류 객체)을 사용하는 대체 요청 처리기 클래스\n",
    "class MyTCPHandler(socketserver.StreamRequestHandler):\n",
    "\n",
    "    def handle(self):\n",
    "        # self.rfile is a file-like object created by the handler;\n",
    "        # we can now use e.g. readline() instead of raw recv() calls\n",
    "        self.data = self.rfile.readline().strip()\n",
    "        print(\"{} wrote:\".format(self.client_address[0]))\n",
    "        print(self.data)\n",
    "        # Likewise, self.wfile is a file-like object used to write back\n",
    "        # to the client\n",
    "        self.wfile.write(self.data.upper())"
   ]
  },
  {
   "cell_type": "code",
   "execution_count": null,
   "metadata": {},
   "outputs": [
    {
     "ename": "ConnectionRefusedError",
     "evalue": "[WinError 10061] 대상 컴퓨터에서 연결을 거부했으므로 연결하지 못했습니다",
     "output_type": "error",
     "traceback": [
      "\u001b[1;31m---------------------------------------------------------------------------\u001b[0m",
      "\u001b[1;31mConnectionRefusedError\u001b[0m                    Traceback (most recent call last)",
      "Cell \u001b[1;32mIn[6], line 12\u001b[0m\n\u001b[0;32m      9\u001b[0m \u001b[38;5;66;03m# Create a socket (SOCK_STREAM means a TCP socket)\u001b[39;00m\n\u001b[0;32m     10\u001b[0m \u001b[38;5;28;01mwith\u001b[39;00m socket\u001b[38;5;241m.\u001b[39msocket(socket\u001b[38;5;241m.\u001b[39mAF_INET, socket\u001b[38;5;241m.\u001b[39mSOCK_STREAM) \u001b[38;5;28;01mas\u001b[39;00m sock:\n\u001b[0;32m     11\u001b[0m     \u001b[38;5;66;03m# Connect to server and send data\u001b[39;00m\n\u001b[1;32m---> 12\u001b[0m     \u001b[43msock\u001b[49m\u001b[38;5;241;43m.\u001b[39;49m\u001b[43mconnect\u001b[49m\u001b[43m(\u001b[49m\u001b[43m(\u001b[49m\u001b[43mHOST\u001b[49m\u001b[43m,\u001b[49m\u001b[43m \u001b[49m\u001b[43mPORT\u001b[49m\u001b[43m)\u001b[49m\u001b[43m)\u001b[49m\n\u001b[0;32m     13\u001b[0m     sock\u001b[38;5;241m.\u001b[39msendall(\u001b[38;5;28mbytes\u001b[39m(data \u001b[38;5;241m+\u001b[39m \u001b[38;5;124m\"\u001b[39m\u001b[38;5;130;01m\\n\u001b[39;00m\u001b[38;5;124m\"\u001b[39m, \u001b[38;5;124m\"\u001b[39m\u001b[38;5;124mutf-8\u001b[39m\u001b[38;5;124m\"\u001b[39m))\n\u001b[0;32m     15\u001b[0m     \u001b[38;5;66;03m# Receive data from the server and shut down\u001b[39;00m\n",
      "\u001b[1;31mConnectionRefusedError\u001b[0m: [WinError 10061] 대상 컴퓨터에서 연결을 거부했으므로 연결하지 못했습니다"
     ]
    }
   ],
   "source": [
    "# 클라이언트\n",
    "\n",
    "import socket\n",
    "import sys\n",
    "\n",
    "HOST, PORT = \"localhost\", 9999\n",
    "data = \" \".join(sys.argv[1:])\n",
    "\n",
    "# Create a socket (SOCK_STREAM means a TCP socket)\n",
    "with socket.socket(socket.AF_INET, socket.SOCK_STREAM) as sock:\n",
    "    # Connect to server and send data\n",
    "    sock.connect((HOST, PORT))\n",
    "    sock.sendall(bytes(data + \"\\n\", \"utf-8\"))\n",
    "\n",
    "    # Receive data from the server and shut down\n",
    "    received = str(sock.recv(1024), \"utf-8\")\n",
    "\n",
    "print(\"Sent:     {}\".format(data))\n",
    "print(\"Received: {}\".format(received))"
   ]
  },
  {
   "cell_type": "markdown",
   "metadata": {},
   "source": [
    "# 비동기 믹스인 구현"
   ]
  },
  {
   "cell_type": "code",
   "execution_count": 9,
   "metadata": {},
   "outputs": [
    {
     "name": "stdout",
     "output_type": "stream",
     "text": [
      "Server loop running in thread: Thread-3 (serve_forever)\n",
      "Received: Thread-4 (process_request_thread): Hello World 1\n",
      "Received: Thread-5 (process_request_thread): Hello World 2\n",
      "Received: Thread-6 (process_request_thread): Hello World 3\n"
     ]
    }
   ],
   "source": [
    "import socket\n",
    "import threading\n",
    "import socketserver\n",
    "\n",
    "class ThreadedTCPRequestHandler(socketserver.BaseRequestHandler):\n",
    "\n",
    "    def handle(self):\n",
    "        data = str(self.request.recv(1024), 'ascii')\n",
    "        cur_thread = threading.current_thread()\n",
    "        response = bytes(\"{}: {}\".format(cur_thread.name, data), 'ascii')\n",
    "        self.request.sendall(response)\n",
    "\n",
    "class ThreadedTCPServer(socketserver.ThreadingMixIn, socketserver.TCPServer):\n",
    "    pass\n",
    "\n",
    "def client(ip, port, message):\n",
    "    with socket.socket(socket.AF_INET, socket.SOCK_STREAM) as sock:\n",
    "        sock.connect((ip, port))\n",
    "        sock.sendall(bytes(message, 'ascii'))\n",
    "        response = str(sock.recv(1024), 'ascii')\n",
    "        print(\"Received: {}\".format(response))\n",
    "\n",
    "if __name__ == \"__main__\":\n",
    "    # Port 0 means to select an arbitrary unused port\n",
    "    HOST, PORT = \"localhost\", 0\n",
    "\n",
    "    server = ThreadedTCPServer((HOST, PORT), ThreadedTCPRequestHandler)\n",
    "    with server:\n",
    "        ip, port = server.server_address\n",
    "\n",
    "        # Start a thread with the server -- that thread will then start one\n",
    "        # more thread for each request\n",
    "        server_thread = threading.Thread(target=server.serve_forever)\n",
    "        # Exit the server thread when the main thread terminates\n",
    "        server_thread.daemon = True\n",
    "        server_thread.start()\n",
    "        print(\"Server loop running in thread:\", server_thread.name)\n",
    "\n",
    "        client(ip, port, \"Hello World 1\")\n",
    "        client(ip, port, \"Hello World 2\")\n",
    "        client(ip, port, \"Hello World 3\")\n",
    "\n",
    "        server.shutdown()"
   ]
  },
  {
   "cell_type": "code",
   "execution_count": null,
   "metadata": {},
   "outputs": [],
   "source": []
  }
 ],
 "metadata": {
  "kernelspec": {
   "display_name": "Python 3.11.9 64-bit",
   "language": "python",
   "name": "python3"
  },
  "language_info": {
   "codemirror_mode": {
    "name": "ipython",
    "version": 3
   },
   "file_extension": ".py",
   "mimetype": "text/x-python",
   "name": "python",
   "nbconvert_exporter": "python",
   "pygments_lexer": "ipython3",
   "version": "3.11.9"
  },
  "orig_nbformat": 4,
  "vscode": {
   "interpreter": {
    "hash": "917eb5183e9dfb349a4cf01a0810fa5630eb4213ee609daf79d7a91f49b27c3a"
   }
  }
 },
 "nbformat": 4,
 "nbformat_minor": 2
}
